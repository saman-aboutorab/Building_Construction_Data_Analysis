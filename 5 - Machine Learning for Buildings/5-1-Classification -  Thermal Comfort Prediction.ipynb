{
 "cells": [
  {
   "cell_type": "markdown",
   "metadata": {
    "colab_type": "text",
    "id": "rA-N1S8QmMZZ"
   },
   "source": [
    "# Machine Learning for the Built Environment - Supervised Classification Models\n",
    "\n",
    "This notebook is an introduction to the machine learning concepts of classification. We will use the ASHRAE Thermal Comfort Database II data set to predict what makes a person feel comfortable"
   ]
  },
  {
   "cell_type": "code",
   "execution_count": 1,
   "metadata": {
    "colab": {},
    "colab_type": "code",
    "id": "Dz08YBT3mBP4"
   },
   "outputs": [],
   "source": [
    "import pandas as pd\n",
    "import matplotlib.pyplot as plt\n",
    "import numpy as np\n",
    "import seaborn as sns"
   ]
  },
  {
   "cell_type": "code",
   "execution_count": 2,
   "metadata": {
    "colab": {},
    "colab_type": "code",
    "id": "KYxnQsFkr0hM"
   },
   "outputs": [
    {
     "ename": "ImportError",
     "evalue": "cannot import name 'joblib' from 'sklearn.externals' (/Users/saman.aboutorab/opt/anaconda3/lib/python3.9/site-packages/sklearn/externals/__init__.py)",
     "output_type": "error",
     "traceback": [
      "\u001b[0;31m---------------------------------------------------------------------------\u001b[0m",
      "\u001b[0;31mImportError\u001b[0m                               Traceback (most recent call last)",
      "\u001b[0;32m/var/folders/jx/z4759t4j39n6ch63jpylzcmh0000gn/T/ipykernel_28653/3370789488.py\u001b[0m in \u001b[0;36m<module>\u001b[0;34m\u001b[0m\n\u001b[1;32m      5\u001b[0m \u001b[0;32mfrom\u001b[0m \u001b[0msklearn\u001b[0m\u001b[0;34m.\u001b[0m\u001b[0mensemble\u001b[0m \u001b[0;32mimport\u001b[0m \u001b[0mRandomForestClassifier\u001b[0m\u001b[0;34m\u001b[0m\u001b[0;34m\u001b[0m\u001b[0m\n\u001b[1;32m      6\u001b[0m \u001b[0;32mfrom\u001b[0m \u001b[0msklearn\u001b[0m\u001b[0;34m.\u001b[0m\u001b[0mmetrics\u001b[0m \u001b[0;32mimport\u001b[0m \u001b[0mclassification_report\u001b[0m\u001b[0;34m,\u001b[0m \u001b[0mroc_curve\u001b[0m\u001b[0;34m,\u001b[0m \u001b[0mauc\u001b[0m\u001b[0;34m,\u001b[0m \u001b[0mprecision_recall_curve\u001b[0m\u001b[0;34m\u001b[0m\u001b[0;34m\u001b[0m\u001b[0m\n\u001b[0;32m----> 7\u001b[0;31m \u001b[0;32mfrom\u001b[0m \u001b[0msklearn\u001b[0m\u001b[0;34m.\u001b[0m\u001b[0mexternals\u001b[0m \u001b[0;32mimport\u001b[0m \u001b[0mjoblib\u001b[0m\u001b[0;34m\u001b[0m\u001b[0;34m\u001b[0m\u001b[0m\n\u001b[0m\u001b[1;32m      8\u001b[0m \u001b[0;32mfrom\u001b[0m \u001b[0msklearn\u001b[0m\u001b[0;34m.\u001b[0m\u001b[0mmodel_selection\u001b[0m \u001b[0;32mimport\u001b[0m \u001b[0mRandomizedSearchCV\u001b[0m\u001b[0;34m\u001b[0m\u001b[0;34m\u001b[0m\u001b[0m\n\u001b[1;32m      9\u001b[0m \u001b[0;32mfrom\u001b[0m \u001b[0msklearn\u001b[0m\u001b[0;34m.\u001b[0m\u001b[0mfeature_selection\u001b[0m \u001b[0;32mimport\u001b[0m \u001b[0mSelectKBest\u001b[0m\u001b[0;34m\u001b[0m\u001b[0;34m\u001b[0m\u001b[0m\n",
      "\u001b[0;31mImportError\u001b[0m: cannot import name 'joblib' from 'sklearn.externals' (/Users/saman.aboutorab/opt/anaconda3/lib/python3.9/site-packages/sklearn/externals/__init__.py)"
     ]
    }
   ],
   "source": [
    "from sklearn import svm, datasets\n",
    "from sklearn.model_selection import train_test_split\n",
    "from sklearn.metrics import confusion_matrix\n",
    "from sklearn.dummy import DummyClassifier\n",
    "from sklearn.ensemble import RandomForestClassifier\n",
    "from sklearn.metrics import classification_report, roc_curve, auc, precision_recall_curve\n",
    "from sklearn.externals import joblib\n",
    "from sklearn.model_selection import RandomizedSearchCV\n",
    "from sklearn.feature_selection import SelectKBest"
   ]
  },
  {
   "cell_type": "markdown",
   "metadata": {
    "colab_type": "text",
    "id": "NJ37iQEToDxq"
   },
   "source": [
    "## Load the IEQ Data and find a classification objective\n",
    "\n",
    "We can constrain the data to be able to predict a certain attribute"
   ]
  },
  {
   "cell_type": "code",
   "execution_count": 4,
   "metadata": {
    "colab": {},
    "colab_type": "code",
    "id": "PiIZwQVqn6U7"
   },
   "outputs": [],
   "source": [
    "ieq_data = pd.read_csv(\"ashrae_thermal_comfort_database_2.csv\", index_col='Unnamed: 0')"
   ]
  },
  {
   "cell_type": "code",
   "execution_count": 5,
   "metadata": {
    "colab": {},
    "colab_type": "code",
    "id": "sp9OA0RAoCkd"
   },
   "outputs": [
    {
     "data": {
      "text/html": [
       "<div>\n",
       "<style scoped>\n",
       "    .dataframe tbody tr th:only-of-type {\n",
       "        vertical-align: middle;\n",
       "    }\n",
       "\n",
       "    .dataframe tbody tr th {\n",
       "        vertical-align: top;\n",
       "    }\n",
       "\n",
       "    .dataframe thead th {\n",
       "        text-align: right;\n",
       "    }\n",
       "</style>\n",
       "<table border=\"1\" class=\"dataframe\">\n",
       "  <thead>\n",
       "    <tr style=\"text-align: right;\">\n",
       "      <th></th>\n",
       "      <th>Publication (Citation)</th>\n",
       "      <th>Year</th>\n",
       "      <th>Season</th>\n",
       "      <th>Climate</th>\n",
       "      <th>City</th>\n",
       "      <th>Country</th>\n",
       "      <th>Building type</th>\n",
       "      <th>Cooling startegy_building level</th>\n",
       "      <th>Sex</th>\n",
       "      <th>Thermal sensation</th>\n",
       "      <th>Clo</th>\n",
       "      <th>Met</th>\n",
       "      <th>Air temperature (C)</th>\n",
       "      <th>Relative humidity (%)</th>\n",
       "      <th>Air velocity (m/s)</th>\n",
       "      <th>ThermalSensation_rounded</th>\n",
       "    </tr>\n",
       "  </thead>\n",
       "  <tbody>\n",
       "    <tr>\n",
       "      <th>2233</th>\n",
       "      <td>Indraganti, Madhavi, et al. \"Adaptive model of...</td>\n",
       "      <td>2012.0</td>\n",
       "      <td>Winter</td>\n",
       "      <td>Tropical wet savanna</td>\n",
       "      <td>Chennai</td>\n",
       "      <td>India</td>\n",
       "      <td>Office</td>\n",
       "      <td>Mixed Mode</td>\n",
       "      <td>Female</td>\n",
       "      <td>-2.0</td>\n",
       "      <td>0.75</td>\n",
       "      <td>1.0</td>\n",
       "      <td>25.2</td>\n",
       "      <td>64.0</td>\n",
       "      <td>0.1</td>\n",
       "      <td>-2.0</td>\n",
       "    </tr>\n",
       "    <tr>\n",
       "      <th>2234</th>\n",
       "      <td>Indraganti, Madhavi, et al. \"Adaptive model of...</td>\n",
       "      <td>2012.0</td>\n",
       "      <td>Winter</td>\n",
       "      <td>Tropical wet savanna</td>\n",
       "      <td>Chennai</td>\n",
       "      <td>India</td>\n",
       "      <td>Office</td>\n",
       "      <td>Mixed Mode</td>\n",
       "      <td>Male</td>\n",
       "      <td>-1.0</td>\n",
       "      <td>0.64</td>\n",
       "      <td>1.0</td>\n",
       "      <td>25.2</td>\n",
       "      <td>64.0</td>\n",
       "      <td>0.1</td>\n",
       "      <td>-1.0</td>\n",
       "    </tr>\n",
       "    <tr>\n",
       "      <th>2235</th>\n",
       "      <td>Indraganti, Madhavi, et al. \"Adaptive model of...</td>\n",
       "      <td>2012.0</td>\n",
       "      <td>Winter</td>\n",
       "      <td>Tropical wet savanna</td>\n",
       "      <td>Chennai</td>\n",
       "      <td>India</td>\n",
       "      <td>Office</td>\n",
       "      <td>Mixed Mode</td>\n",
       "      <td>Male</td>\n",
       "      <td>-2.0</td>\n",
       "      <td>0.64</td>\n",
       "      <td>1.0</td>\n",
       "      <td>25.2</td>\n",
       "      <td>64.0</td>\n",
       "      <td>0.1</td>\n",
       "      <td>-2.0</td>\n",
       "    </tr>\n",
       "    <tr>\n",
       "      <th>2236</th>\n",
       "      <td>Indraganti, Madhavi, et al. \"Adaptive model of...</td>\n",
       "      <td>2012.0</td>\n",
       "      <td>Winter</td>\n",
       "      <td>Tropical wet savanna</td>\n",
       "      <td>Chennai</td>\n",
       "      <td>India</td>\n",
       "      <td>Office</td>\n",
       "      <td>Mixed Mode</td>\n",
       "      <td>Female</td>\n",
       "      <td>-2.0</td>\n",
       "      <td>0.75</td>\n",
       "      <td>1.0</td>\n",
       "      <td>25.2</td>\n",
       "      <td>64.0</td>\n",
       "      <td>0.1</td>\n",
       "      <td>-2.0</td>\n",
       "    </tr>\n",
       "    <tr>\n",
       "      <th>2237</th>\n",
       "      <td>Indraganti, Madhavi, et al. \"Adaptive model of...</td>\n",
       "      <td>2012.0</td>\n",
       "      <td>Winter</td>\n",
       "      <td>Tropical wet savanna</td>\n",
       "      <td>Chennai</td>\n",
       "      <td>India</td>\n",
       "      <td>Office</td>\n",
       "      <td>Mixed Mode</td>\n",
       "      <td>Male</td>\n",
       "      <td>0.0</td>\n",
       "      <td>0.72</td>\n",
       "      <td>1.0</td>\n",
       "      <td>25.2</td>\n",
       "      <td>64.0</td>\n",
       "      <td>0.1</td>\n",
       "      <td>0.0</td>\n",
       "    </tr>\n",
       "  </tbody>\n",
       "</table>\n",
       "</div>"
      ],
      "text/plain": [
       "                                 Publication (Citation)    Year  Season  \\\n",
       "2233  Indraganti, Madhavi, et al. \"Adaptive model of...  2012.0  Winter   \n",
       "2234  Indraganti, Madhavi, et al. \"Adaptive model of...  2012.0  Winter   \n",
       "2235  Indraganti, Madhavi, et al. \"Adaptive model of...  2012.0  Winter   \n",
       "2236  Indraganti, Madhavi, et al. \"Adaptive model of...  2012.0  Winter   \n",
       "2237  Indraganti, Madhavi, et al. \"Adaptive model of...  2012.0  Winter   \n",
       "\n",
       "                   Climate     City Country Building type  \\\n",
       "2233  Tropical wet savanna  Chennai   India        Office   \n",
       "2234  Tropical wet savanna  Chennai   India        Office   \n",
       "2235  Tropical wet savanna  Chennai   India        Office   \n",
       "2236  Tropical wet savanna  Chennai   India        Office   \n",
       "2237  Tropical wet savanna  Chennai   India        Office   \n",
       "\n",
       "     Cooling startegy_building level     Sex  Thermal sensation   Clo  Met  \\\n",
       "2233                      Mixed Mode  Female               -2.0  0.75  1.0   \n",
       "2234                      Mixed Mode    Male               -1.0  0.64  1.0   \n",
       "2235                      Mixed Mode    Male               -2.0  0.64  1.0   \n",
       "2236                      Mixed Mode  Female               -2.0  0.75  1.0   \n",
       "2237                      Mixed Mode    Male                0.0  0.72  1.0   \n",
       "\n",
       "      Air temperature (C)  Relative humidity (%)  Air velocity (m/s)  \\\n",
       "2233                 25.2                   64.0                 0.1   \n",
       "2234                 25.2                   64.0                 0.1   \n",
       "2235                 25.2                   64.0                 0.1   \n",
       "2236                 25.2                   64.0                 0.1   \n",
       "2237                 25.2                   64.0                 0.1   \n",
       "\n",
       "      ThermalSensation_rounded  \n",
       "2233                      -2.0  \n",
       "2234                      -1.0  \n",
       "2235                      -2.0  \n",
       "2236                      -2.0  \n",
       "2237                       0.0  "
      ]
     },
     "execution_count": 5,
     "metadata": {},
     "output_type": "execute_result"
    }
   ],
   "source": [
    "ieq_data.head()"
   ]
  },
  {
   "cell_type": "code",
   "execution_count": 6,
   "metadata": {
    "colab": {},
    "colab_type": "code",
    "id": "aIhb3Q0to8zW"
   },
   "outputs": [
    {
     "name": "stdout",
     "output_type": "stream",
     "text": [
      "<class 'pandas.core.frame.DataFrame'>\n",
      "Int64Index: 43448 entries, 2233 to 104033\n",
      "Data columns (total 16 columns):\n",
      " #   Column                           Non-Null Count  Dtype  \n",
      "---  ------                           --------------  -----  \n",
      " 0   Publication (Citation)           43448 non-null  object \n",
      " 1   Year                             43448 non-null  float64\n",
      " 2   Season                           43448 non-null  object \n",
      " 3   Climate                          43448 non-null  object \n",
      " 4   City                             43448 non-null  object \n",
      " 5   Country                          43448 non-null  object \n",
      " 6   Building type                    43448 non-null  object \n",
      " 7   Cooling startegy_building level  43448 non-null  object \n",
      " 8   Sex                              43448 non-null  object \n",
      " 9   Thermal sensation                43448 non-null  float64\n",
      " 10  Clo                              43448 non-null  float64\n",
      " 11  Met                              43448 non-null  float64\n",
      " 12  Air temperature (C)              43448 non-null  float64\n",
      " 13  Relative humidity (%)            43448 non-null  float64\n",
      " 14  Air velocity (m/s)               43448 non-null  float64\n",
      " 15  ThermalSensation_rounded         43448 non-null  float64\n",
      "dtypes: float64(8), object(8)\n",
      "memory usage: 5.6+ MB\n"
     ]
    }
   ],
   "source": [
    "ieq_data.info()"
   ]
  },
  {
   "cell_type": "code",
   "execution_count": 7,
   "metadata": {
    "colab": {},
    "colab_type": "code",
    "id": "-Hh2o7WBpAGG"
   },
   "outputs": [
    {
     "data": {
      "text/plain": [
       " 0.0    19537\n",
       " 1.0     8396\n",
       "-1.0     7693\n",
       " 2.0     3657\n",
       "-2.0     2459\n",
       " 3.0     1265\n",
       "-3.0      441\n",
       "Name: ThermalSensation_rounded, dtype: int64"
      ]
     },
     "execution_count": 7,
     "metadata": {},
     "output_type": "execute_result"
    }
   ],
   "source": [
    "ieq_data[\"ThermalSensation_rounded\"].value_counts()"
   ]
  },
  {
   "cell_type": "markdown",
   "metadata": {
    "colab_type": "text",
    "id": "-lrBZRIcrSHU"
   },
   "source": [
    "## Classification Objective -- Predict Thermal Sensation using a Random Forest Model\n",
    "\n",
    "Let's use many of the other variables to predict thermal sensation as classification objective.\n",
    "\n",
    "To do this we can use the Random Forest Classification Model."
   ]
  },
  {
   "cell_type": "markdown",
   "metadata": {
    "colab_type": "text",
    "id": "IQyIQ6h-nf0E"
   },
   "source": [
    "## Creating Feature and Target Data Sets"
   ]
  },
  {
   "cell_type": "code",
   "execution_count": 8,
   "metadata": {
    "colab": {},
    "colab_type": "code",
    "id": "G5oxp6m_noad"
   },
   "outputs": [
    {
     "data": {
      "text/html": [
       "<div>\n",
       "<style scoped>\n",
       "    .dataframe tbody tr th:only-of-type {\n",
       "        vertical-align: middle;\n",
       "    }\n",
       "\n",
       "    .dataframe tbody tr th {\n",
       "        vertical-align: top;\n",
       "    }\n",
       "\n",
       "    .dataframe thead th {\n",
       "        text-align: right;\n",
       "    }\n",
       "</style>\n",
       "<table border=\"1\" class=\"dataframe\">\n",
       "  <thead>\n",
       "    <tr style=\"text-align: right;\">\n",
       "      <th></th>\n",
       "      <th>Publication (Citation)</th>\n",
       "      <th>Year</th>\n",
       "      <th>Season</th>\n",
       "      <th>Climate</th>\n",
       "      <th>City</th>\n",
       "      <th>Country</th>\n",
       "      <th>Building type</th>\n",
       "      <th>Cooling startegy_building level</th>\n",
       "      <th>Sex</th>\n",
       "      <th>Thermal sensation</th>\n",
       "      <th>Clo</th>\n",
       "      <th>Met</th>\n",
       "      <th>Air temperature (C)</th>\n",
       "      <th>Relative humidity (%)</th>\n",
       "      <th>Air velocity (m/s)</th>\n",
       "      <th>ThermalSensation_rounded</th>\n",
       "    </tr>\n",
       "  </thead>\n",
       "  <tbody>\n",
       "    <tr>\n",
       "      <th>2233</th>\n",
       "      <td>Indraganti, Madhavi, et al. \"Adaptive model of...</td>\n",
       "      <td>2012.0</td>\n",
       "      <td>Winter</td>\n",
       "      <td>Tropical wet savanna</td>\n",
       "      <td>Chennai</td>\n",
       "      <td>India</td>\n",
       "      <td>Office</td>\n",
       "      <td>Mixed Mode</td>\n",
       "      <td>Female</td>\n",
       "      <td>-2.0</td>\n",
       "      <td>0.75</td>\n",
       "      <td>1.0</td>\n",
       "      <td>25.2</td>\n",
       "      <td>64.0</td>\n",
       "      <td>0.1</td>\n",
       "      <td>-2.0</td>\n",
       "    </tr>\n",
       "    <tr>\n",
       "      <th>2234</th>\n",
       "      <td>Indraganti, Madhavi, et al. \"Adaptive model of...</td>\n",
       "      <td>2012.0</td>\n",
       "      <td>Winter</td>\n",
       "      <td>Tropical wet savanna</td>\n",
       "      <td>Chennai</td>\n",
       "      <td>India</td>\n",
       "      <td>Office</td>\n",
       "      <td>Mixed Mode</td>\n",
       "      <td>Male</td>\n",
       "      <td>-1.0</td>\n",
       "      <td>0.64</td>\n",
       "      <td>1.0</td>\n",
       "      <td>25.2</td>\n",
       "      <td>64.0</td>\n",
       "      <td>0.1</td>\n",
       "      <td>-1.0</td>\n",
       "    </tr>\n",
       "    <tr>\n",
       "      <th>2235</th>\n",
       "      <td>Indraganti, Madhavi, et al. \"Adaptive model of...</td>\n",
       "      <td>2012.0</td>\n",
       "      <td>Winter</td>\n",
       "      <td>Tropical wet savanna</td>\n",
       "      <td>Chennai</td>\n",
       "      <td>India</td>\n",
       "      <td>Office</td>\n",
       "      <td>Mixed Mode</td>\n",
       "      <td>Male</td>\n",
       "      <td>-2.0</td>\n",
       "      <td>0.64</td>\n",
       "      <td>1.0</td>\n",
       "      <td>25.2</td>\n",
       "      <td>64.0</td>\n",
       "      <td>0.1</td>\n",
       "      <td>-2.0</td>\n",
       "    </tr>\n",
       "    <tr>\n",
       "      <th>2236</th>\n",
       "      <td>Indraganti, Madhavi, et al. \"Adaptive model of...</td>\n",
       "      <td>2012.0</td>\n",
       "      <td>Winter</td>\n",
       "      <td>Tropical wet savanna</td>\n",
       "      <td>Chennai</td>\n",
       "      <td>India</td>\n",
       "      <td>Office</td>\n",
       "      <td>Mixed Mode</td>\n",
       "      <td>Female</td>\n",
       "      <td>-2.0</td>\n",
       "      <td>0.75</td>\n",
       "      <td>1.0</td>\n",
       "      <td>25.2</td>\n",
       "      <td>64.0</td>\n",
       "      <td>0.1</td>\n",
       "      <td>-2.0</td>\n",
       "    </tr>\n",
       "    <tr>\n",
       "      <th>2237</th>\n",
       "      <td>Indraganti, Madhavi, et al. \"Adaptive model of...</td>\n",
       "      <td>2012.0</td>\n",
       "      <td>Winter</td>\n",
       "      <td>Tropical wet savanna</td>\n",
       "      <td>Chennai</td>\n",
       "      <td>India</td>\n",
       "      <td>Office</td>\n",
       "      <td>Mixed Mode</td>\n",
       "      <td>Male</td>\n",
       "      <td>0.0</td>\n",
       "      <td>0.72</td>\n",
       "      <td>1.0</td>\n",
       "      <td>25.2</td>\n",
       "      <td>64.0</td>\n",
       "      <td>0.1</td>\n",
       "      <td>0.0</td>\n",
       "    </tr>\n",
       "  </tbody>\n",
       "</table>\n",
       "</div>"
      ],
      "text/plain": [
       "                                 Publication (Citation)    Year  Season  \\\n",
       "2233  Indraganti, Madhavi, et al. \"Adaptive model of...  2012.0  Winter   \n",
       "2234  Indraganti, Madhavi, et al. \"Adaptive model of...  2012.0  Winter   \n",
       "2235  Indraganti, Madhavi, et al. \"Adaptive model of...  2012.0  Winter   \n",
       "2236  Indraganti, Madhavi, et al. \"Adaptive model of...  2012.0  Winter   \n",
       "2237  Indraganti, Madhavi, et al. \"Adaptive model of...  2012.0  Winter   \n",
       "\n",
       "                   Climate     City Country Building type  \\\n",
       "2233  Tropical wet savanna  Chennai   India        Office   \n",
       "2234  Tropical wet savanna  Chennai   India        Office   \n",
       "2235  Tropical wet savanna  Chennai   India        Office   \n",
       "2236  Tropical wet savanna  Chennai   India        Office   \n",
       "2237  Tropical wet savanna  Chennai   India        Office   \n",
       "\n",
       "     Cooling startegy_building level     Sex  Thermal sensation   Clo  Met  \\\n",
       "2233                      Mixed Mode  Female               -2.0  0.75  1.0   \n",
       "2234                      Mixed Mode    Male               -1.0  0.64  1.0   \n",
       "2235                      Mixed Mode    Male               -2.0  0.64  1.0   \n",
       "2236                      Mixed Mode  Female               -2.0  0.75  1.0   \n",
       "2237                      Mixed Mode    Male                0.0  0.72  1.0   \n",
       "\n",
       "      Air temperature (C)  Relative humidity (%)  Air velocity (m/s)  \\\n",
       "2233                 25.2                   64.0                 0.1   \n",
       "2234                 25.2                   64.0                 0.1   \n",
       "2235                 25.2                   64.0                 0.1   \n",
       "2236                 25.2                   64.0                 0.1   \n",
       "2237                 25.2                   64.0                 0.1   \n",
       "\n",
       "      ThermalSensation_rounded  \n",
       "2233                      -2.0  \n",
       "2234                      -1.0  \n",
       "2235                      -2.0  \n",
       "2236                      -2.0  \n",
       "2237                       0.0  "
      ]
     },
     "execution_count": 8,
     "metadata": {},
     "output_type": "execute_result"
    }
   ],
   "source": [
    "ieq_data.head()"
   ]
  },
  {
   "cell_type": "code",
   "execution_count": 9,
   "metadata": {
    "colab": {},
    "colab_type": "code",
    "id": "EBuLXQEVrxOC"
   },
   "outputs": [
    {
     "data": {
      "text/plain": [
       "['Publication (Citation)',\n",
       " 'Year',\n",
       " 'Season',\n",
       " 'Climate',\n",
       " 'City',\n",
       " 'Country',\n",
       " 'Building type',\n",
       " 'Cooling startegy_building level',\n",
       " 'Sex',\n",
       " 'Thermal sensation',\n",
       " 'Clo',\n",
       " 'Met',\n",
       " 'Air temperature (C)',\n",
       " 'Relative humidity (%)',\n",
       " 'Air velocity (m/s)',\n",
       " 'ThermalSensation_rounded']"
      ]
     },
     "execution_count": 9,
     "metadata": {},
     "output_type": "execute_result"
    }
   ],
   "source": [
    "list(ieq_data.columns)"
   ]
  },
  {
   "cell_type": "markdown",
   "metadata": {
    "colab_type": "text",
    "id": "00Nn6JKYnkak"
   },
   "source": [
    "Let's use the following columns as input features for the classification model. These features will be used by the model to try to predict `ThermalSensation_rounded`.\n",
    "\n",
    "Several of the features are related to the building context (i.e.: `Country`, `City`), the environmental conditions (i.e.: `Air Temperature (C)`, `Relative humidity (%)`) and personal factors (i.e.: `Sex`, `Clo`, etc.)\n"
   ]
  },
  {
   "cell_type": "code",
   "execution_count": 10,
   "metadata": {
    "colab": {},
    "colab_type": "code",
    "id": "996kd7qMrxmv"
   },
   "outputs": [],
   "source": [
    "feature_columns = [\n",
    " 'Year',\n",
    " 'Season',\n",
    " 'Climate',\n",
    " 'City',\n",
    " 'Country',\n",
    " 'Building type',\n",
    " 'Cooling startegy_building level',\n",
    " 'Sex',\n",
    " 'Clo',\n",
    " 'Met',\n",
    " 'Air temperature (C)',\n",
    " 'Relative humidity (%)',\n",
    " 'Air velocity (m/s)']"
   ]
  },
  {
   "cell_type": "code",
   "execution_count": 11,
   "metadata": {
    "colab": {},
    "colab_type": "code",
    "id": "TmcSagvCoXFN"
   },
   "outputs": [],
   "source": [
    "features = ieq_data[feature_columns]"
   ]
  },
  {
   "cell_type": "code",
   "execution_count": 12,
   "metadata": {
    "colab": {},
    "colab_type": "code",
    "id": "bLwBTee3oaFi"
   },
   "outputs": [
    {
     "name": "stdout",
     "output_type": "stream",
     "text": [
      "<class 'pandas.core.frame.DataFrame'>\n",
      "Int64Index: 43448 entries, 2233 to 104033\n",
      "Data columns (total 13 columns):\n",
      " #   Column                           Non-Null Count  Dtype  \n",
      "---  ------                           --------------  -----  \n",
      " 0   Year                             43448 non-null  float64\n",
      " 1   Season                           43448 non-null  object \n",
      " 2   Climate                          43448 non-null  object \n",
      " 3   City                             43448 non-null  object \n",
      " 4   Country                          43448 non-null  object \n",
      " 5   Building type                    43448 non-null  object \n",
      " 6   Cooling startegy_building level  43448 non-null  object \n",
      " 7   Sex                              43448 non-null  object \n",
      " 8   Clo                              43448 non-null  float64\n",
      " 9   Met                              43448 non-null  float64\n",
      " 10  Air temperature (C)              43448 non-null  float64\n",
      " 11  Relative humidity (%)            43448 non-null  float64\n",
      " 12  Air velocity (m/s)               43448 non-null  float64\n",
      "dtypes: float64(6), object(7)\n",
      "memory usage: 4.6+ MB\n"
     ]
    }
   ],
   "source": [
    "features.info()"
   ]
  },
  {
   "cell_type": "markdown",
   "metadata": {
    "colab_type": "text",
    "id": "RibRtv8Qouqu"
   },
   "source": [
    "The **target** variable is the column that we want to predict - in this case, thermal sensation. We will use the \"rounded\" version to minimize the number of categories"
   ]
  },
  {
   "cell_type": "code",
   "execution_count": 13,
   "metadata": {
    "colab": {},
    "colab_type": "code",
    "id": "fMn8XdvdobHE"
   },
   "outputs": [],
   "source": [
    "target = ieq_data['ThermalSensation_rounded']"
   ]
  },
  {
   "cell_type": "code",
   "execution_count": 14,
   "metadata": {
    "colab": {},
    "colab_type": "code",
    "id": "astDNowlpHlW"
   },
   "outputs": [
    {
     "data": {
      "text/plain": [
       "2233   -2.0\n",
       "2234   -1.0\n",
       "2235   -2.0\n",
       "2236   -2.0\n",
       "2237    0.0\n",
       "Name: ThermalSensation_rounded, dtype: float64"
      ]
     },
     "execution_count": 14,
     "metadata": {},
     "output_type": "execute_result"
    }
   ],
   "source": [
    "target.head()"
   ]
  },
  {
   "cell_type": "markdown",
   "metadata": {
    "colab_type": "text",
    "id": "5qe5VTD_rSG-"
   },
   "source": [
    "## Create dummy variables for the categories\n",
    "\n",
    "Once again, we need to convert the categorical variables to dummy variables in order as that is the input the model expects"
   ]
  },
  {
   "cell_type": "code",
   "execution_count": 15,
   "metadata": {
    "colab": {},
    "colab_type": "code",
    "id": "MuzOWUmqq-4S"
   },
   "outputs": [],
   "source": [
    "features_withdummies = pd.get_dummies(features)\n"
   ]
  },
  {
   "cell_type": "code",
   "execution_count": 16,
   "metadata": {
    "colab": {},
    "colab_type": "code",
    "id": "_eAMPN05rF_w"
   },
   "outputs": [
    {
     "data": {
      "text/html": [
       "<div>\n",
       "<style scoped>\n",
       "    .dataframe tbody tr th:only-of-type {\n",
       "        vertical-align: middle;\n",
       "    }\n",
       "\n",
       "    .dataframe tbody tr th {\n",
       "        vertical-align: top;\n",
       "    }\n",
       "\n",
       "    .dataframe thead th {\n",
       "        text-align: right;\n",
       "    }\n",
       "</style>\n",
       "<table border=\"1\" class=\"dataframe\">\n",
       "  <thead>\n",
       "    <tr style=\"text-align: right;\">\n",
       "      <th></th>\n",
       "      <th>Year</th>\n",
       "      <th>Clo</th>\n",
       "      <th>Met</th>\n",
       "      <th>Air temperature (C)</th>\n",
       "      <th>Relative humidity (%)</th>\n",
       "      <th>Air velocity (m/s)</th>\n",
       "      <th>Season_Autumn</th>\n",
       "      <th>Season_Spring</th>\n",
       "      <th>Season_Summer</th>\n",
       "      <th>Season_Winter</th>\n",
       "      <th>...</th>\n",
       "      <th>Building type_Multifamily housing</th>\n",
       "      <th>Building type_Office</th>\n",
       "      <th>Building type_Others</th>\n",
       "      <th>Building type_Senior center</th>\n",
       "      <th>Cooling startegy_building level_Air Conditioned</th>\n",
       "      <th>Cooling startegy_building level_Mechanically Ventilated</th>\n",
       "      <th>Cooling startegy_building level_Mixed Mode</th>\n",
       "      <th>Cooling startegy_building level_Naturally Ventilated</th>\n",
       "      <th>Sex_Female</th>\n",
       "      <th>Sex_Male</th>\n",
       "    </tr>\n",
       "  </thead>\n",
       "  <tbody>\n",
       "    <tr>\n",
       "      <th>2233</th>\n",
       "      <td>2012.0</td>\n",
       "      <td>0.75</td>\n",
       "      <td>1.0</td>\n",
       "      <td>25.2</td>\n",
       "      <td>64.0</td>\n",
       "      <td>0.1</td>\n",
       "      <td>0</td>\n",
       "      <td>0</td>\n",
       "      <td>0</td>\n",
       "      <td>1</td>\n",
       "      <td>...</td>\n",
       "      <td>0</td>\n",
       "      <td>1</td>\n",
       "      <td>0</td>\n",
       "      <td>0</td>\n",
       "      <td>0</td>\n",
       "      <td>0</td>\n",
       "      <td>1</td>\n",
       "      <td>0</td>\n",
       "      <td>1</td>\n",
       "      <td>0</td>\n",
       "    </tr>\n",
       "    <tr>\n",
       "      <th>2234</th>\n",
       "      <td>2012.0</td>\n",
       "      <td>0.64</td>\n",
       "      <td>1.0</td>\n",
       "      <td>25.2</td>\n",
       "      <td>64.0</td>\n",
       "      <td>0.1</td>\n",
       "      <td>0</td>\n",
       "      <td>0</td>\n",
       "      <td>0</td>\n",
       "      <td>1</td>\n",
       "      <td>...</td>\n",
       "      <td>0</td>\n",
       "      <td>1</td>\n",
       "      <td>0</td>\n",
       "      <td>0</td>\n",
       "      <td>0</td>\n",
       "      <td>0</td>\n",
       "      <td>1</td>\n",
       "      <td>0</td>\n",
       "      <td>0</td>\n",
       "      <td>1</td>\n",
       "    </tr>\n",
       "    <tr>\n",
       "      <th>2235</th>\n",
       "      <td>2012.0</td>\n",
       "      <td>0.64</td>\n",
       "      <td>1.0</td>\n",
       "      <td>25.2</td>\n",
       "      <td>64.0</td>\n",
       "      <td>0.1</td>\n",
       "      <td>0</td>\n",
       "      <td>0</td>\n",
       "      <td>0</td>\n",
       "      <td>1</td>\n",
       "      <td>...</td>\n",
       "      <td>0</td>\n",
       "      <td>1</td>\n",
       "      <td>0</td>\n",
       "      <td>0</td>\n",
       "      <td>0</td>\n",
       "      <td>0</td>\n",
       "      <td>1</td>\n",
       "      <td>0</td>\n",
       "      <td>0</td>\n",
       "      <td>1</td>\n",
       "    </tr>\n",
       "    <tr>\n",
       "      <th>2236</th>\n",
       "      <td>2012.0</td>\n",
       "      <td>0.75</td>\n",
       "      <td>1.0</td>\n",
       "      <td>25.2</td>\n",
       "      <td>64.0</td>\n",
       "      <td>0.1</td>\n",
       "      <td>0</td>\n",
       "      <td>0</td>\n",
       "      <td>0</td>\n",
       "      <td>1</td>\n",
       "      <td>...</td>\n",
       "      <td>0</td>\n",
       "      <td>1</td>\n",
       "      <td>0</td>\n",
       "      <td>0</td>\n",
       "      <td>0</td>\n",
       "      <td>0</td>\n",
       "      <td>1</td>\n",
       "      <td>0</td>\n",
       "      <td>1</td>\n",
       "      <td>0</td>\n",
       "    </tr>\n",
       "    <tr>\n",
       "      <th>2237</th>\n",
       "      <td>2012.0</td>\n",
       "      <td>0.72</td>\n",
       "      <td>1.0</td>\n",
       "      <td>25.2</td>\n",
       "      <td>64.0</td>\n",
       "      <td>0.1</td>\n",
       "      <td>0</td>\n",
       "      <td>0</td>\n",
       "      <td>0</td>\n",
       "      <td>1</td>\n",
       "      <td>...</td>\n",
       "      <td>0</td>\n",
       "      <td>1</td>\n",
       "      <td>0</td>\n",
       "      <td>0</td>\n",
       "      <td>0</td>\n",
       "      <td>0</td>\n",
       "      <td>1</td>\n",
       "      <td>0</td>\n",
       "      <td>0</td>\n",
       "      <td>1</td>\n",
       "    </tr>\n",
       "  </tbody>\n",
       "</table>\n",
       "<p>5 rows × 102 columns</p>\n",
       "</div>"
      ],
      "text/plain": [
       "        Year   Clo  Met  Air temperature (C)  Relative humidity (%)  \\\n",
       "2233  2012.0  0.75  1.0                 25.2                   64.0   \n",
       "2234  2012.0  0.64  1.0                 25.2                   64.0   \n",
       "2235  2012.0  0.64  1.0                 25.2                   64.0   \n",
       "2236  2012.0  0.75  1.0                 25.2                   64.0   \n",
       "2237  2012.0  0.72  1.0                 25.2                   64.0   \n",
       "\n",
       "      Air velocity (m/s)  Season_Autumn  Season_Spring  Season_Summer  \\\n",
       "2233                 0.1              0              0              0   \n",
       "2234                 0.1              0              0              0   \n",
       "2235                 0.1              0              0              0   \n",
       "2236                 0.1              0              0              0   \n",
       "2237                 0.1              0              0              0   \n",
       "\n",
       "      Season_Winter  ...  Building type_Multifamily housing  \\\n",
       "2233              1  ...                                  0   \n",
       "2234              1  ...                                  0   \n",
       "2235              1  ...                                  0   \n",
       "2236              1  ...                                  0   \n",
       "2237              1  ...                                  0   \n",
       "\n",
       "      Building type_Office  Building type_Others  Building type_Senior center  \\\n",
       "2233                     1                     0                            0   \n",
       "2234                     1                     0                            0   \n",
       "2235                     1                     0                            0   \n",
       "2236                     1                     0                            0   \n",
       "2237                     1                     0                            0   \n",
       "\n",
       "      Cooling startegy_building level_Air Conditioned  \\\n",
       "2233                                                0   \n",
       "2234                                                0   \n",
       "2235                                                0   \n",
       "2236                                                0   \n",
       "2237                                                0   \n",
       "\n",
       "      Cooling startegy_building level_Mechanically Ventilated  \\\n",
       "2233                                                  0         \n",
       "2234                                                  0         \n",
       "2235                                                  0         \n",
       "2236                                                  0         \n",
       "2237                                                  0         \n",
       "\n",
       "      Cooling startegy_building level_Mixed Mode  \\\n",
       "2233                                           1   \n",
       "2234                                           1   \n",
       "2235                                           1   \n",
       "2236                                           1   \n",
       "2237                                           1   \n",
       "\n",
       "      Cooling startegy_building level_Naturally Ventilated  Sex_Female  \\\n",
       "2233                                                  0              1   \n",
       "2234                                                  0              0   \n",
       "2235                                                  0              0   \n",
       "2236                                                  0              1   \n",
       "2237                                                  0              0   \n",
       "\n",
       "      Sex_Male  \n",
       "2233         0  \n",
       "2234         1  \n",
       "2235         1  \n",
       "2236         0  \n",
       "2237         1  \n",
       "\n",
       "[5 rows x 102 columns]"
      ]
     },
     "execution_count": 16,
     "metadata": {},
     "output_type": "execute_result"
    }
   ],
   "source": [
    "features_withdummies.head()"
   ]
  },
  {
   "cell_type": "markdown",
   "metadata": {
    "colab_type": "text",
    "id": "EIxf8I4CpRIn"
   },
   "source": [
    "## Create the Train and Test Split using SK Learn\n",
    "\n",
    "Now we will create a function that will divide the data set into a random train/test combination."
   ]
  },
  {
   "cell_type": "code",
   "execution_count": 17,
   "metadata": {
    "colab": {},
    "colab_type": "code",
    "id": "BetJSD9LpLPz"
   },
   "outputs": [],
   "source": [
    "features_train, features_test, target_train, target_test = train_test_split(features_withdummies, target, test_size=0.3, random_state=2)\n"
   ]
  },
  {
   "cell_type": "code",
   "execution_count": 18,
   "metadata": {
    "colab": {},
    "colab_type": "code",
    "id": "beEhI4-TqkkC"
   },
   "outputs": [
    {
     "data": {
      "text/html": [
       "<div>\n",
       "<style scoped>\n",
       "    .dataframe tbody tr th:only-of-type {\n",
       "        vertical-align: middle;\n",
       "    }\n",
       "\n",
       "    .dataframe tbody tr th {\n",
       "        vertical-align: top;\n",
       "    }\n",
       "\n",
       "    .dataframe thead th {\n",
       "        text-align: right;\n",
       "    }\n",
       "</style>\n",
       "<table border=\"1\" class=\"dataframe\">\n",
       "  <thead>\n",
       "    <tr style=\"text-align: right;\">\n",
       "      <th></th>\n",
       "      <th>Year</th>\n",
       "      <th>Clo</th>\n",
       "      <th>Met</th>\n",
       "      <th>Air temperature (C)</th>\n",
       "      <th>Relative humidity (%)</th>\n",
       "      <th>Air velocity (m/s)</th>\n",
       "      <th>Season_Autumn</th>\n",
       "      <th>Season_Spring</th>\n",
       "      <th>Season_Summer</th>\n",
       "      <th>Season_Winter</th>\n",
       "      <th>...</th>\n",
       "      <th>Building type_Multifamily housing</th>\n",
       "      <th>Building type_Office</th>\n",
       "      <th>Building type_Others</th>\n",
       "      <th>Building type_Senior center</th>\n",
       "      <th>Cooling startegy_building level_Air Conditioned</th>\n",
       "      <th>Cooling startegy_building level_Mechanically Ventilated</th>\n",
       "      <th>Cooling startegy_building level_Mixed Mode</th>\n",
       "      <th>Cooling startegy_building level_Naturally Ventilated</th>\n",
       "      <th>Sex_Female</th>\n",
       "      <th>Sex_Male</th>\n",
       "    </tr>\n",
       "  </thead>\n",
       "  <tbody>\n",
       "    <tr>\n",
       "      <th>102330</th>\n",
       "      <td>1993.0</td>\n",
       "      <td>0.63</td>\n",
       "      <td>1.20</td>\n",
       "      <td>22.5</td>\n",
       "      <td>49.8</td>\n",
       "      <td>0.11</td>\n",
       "      <td>0</td>\n",
       "      <td>0</td>\n",
       "      <td>1</td>\n",
       "      <td>0</td>\n",
       "      <td>...</td>\n",
       "      <td>0</td>\n",
       "      <td>1</td>\n",
       "      <td>0</td>\n",
       "      <td>0</td>\n",
       "      <td>1</td>\n",
       "      <td>0</td>\n",
       "      <td>0</td>\n",
       "      <td>0</td>\n",
       "      <td>1</td>\n",
       "      <td>0</td>\n",
       "    </tr>\n",
       "    <tr>\n",
       "      <th>95398</th>\n",
       "      <td>1994.0</td>\n",
       "      <td>0.39</td>\n",
       "      <td>1.10</td>\n",
       "      <td>30.6</td>\n",
       "      <td>43.1</td>\n",
       "      <td>0.24</td>\n",
       "      <td>0</td>\n",
       "      <td>0</td>\n",
       "      <td>1</td>\n",
       "      <td>0</td>\n",
       "      <td>...</td>\n",
       "      <td>0</td>\n",
       "      <td>1</td>\n",
       "      <td>0</td>\n",
       "      <td>0</td>\n",
       "      <td>0</td>\n",
       "      <td>0</td>\n",
       "      <td>0</td>\n",
       "      <td>1</td>\n",
       "      <td>1</td>\n",
       "      <td>0</td>\n",
       "    </tr>\n",
       "    <tr>\n",
       "      <th>86887</th>\n",
       "      <td>1982.0</td>\n",
       "      <td>0.47</td>\n",
       "      <td>1.06</td>\n",
       "      <td>21.9</td>\n",
       "      <td>57.0</td>\n",
       "      <td>0.10</td>\n",
       "      <td>0</td>\n",
       "      <td>0</td>\n",
       "      <td>1</td>\n",
       "      <td>0</td>\n",
       "      <td>...</td>\n",
       "      <td>0</td>\n",
       "      <td>1</td>\n",
       "      <td>0</td>\n",
       "      <td>0</td>\n",
       "      <td>1</td>\n",
       "      <td>0</td>\n",
       "      <td>0</td>\n",
       "      <td>0</td>\n",
       "      <td>1</td>\n",
       "      <td>0</td>\n",
       "    </tr>\n",
       "    <tr>\n",
       "      <th>94799</th>\n",
       "      <td>1993.0</td>\n",
       "      <td>0.39</td>\n",
       "      <td>1.00</td>\n",
       "      <td>32.5</td>\n",
       "      <td>33.3</td>\n",
       "      <td>0.00</td>\n",
       "      <td>0</td>\n",
       "      <td>0</td>\n",
       "      <td>1</td>\n",
       "      <td>0</td>\n",
       "      <td>...</td>\n",
       "      <td>0</td>\n",
       "      <td>1</td>\n",
       "      <td>0</td>\n",
       "      <td>0</td>\n",
       "      <td>0</td>\n",
       "      <td>0</td>\n",
       "      <td>0</td>\n",
       "      <td>1</td>\n",
       "      <td>1</td>\n",
       "      <td>0</td>\n",
       "    </tr>\n",
       "    <tr>\n",
       "      <th>69296</th>\n",
       "      <td>2012.0</td>\n",
       "      <td>0.80</td>\n",
       "      <td>1.10</td>\n",
       "      <td>27.7</td>\n",
       "      <td>45.8</td>\n",
       "      <td>0.29</td>\n",
       "      <td>0</td>\n",
       "      <td>0</td>\n",
       "      <td>0</td>\n",
       "      <td>1</td>\n",
       "      <td>...</td>\n",
       "      <td>0</td>\n",
       "      <td>1</td>\n",
       "      <td>0</td>\n",
       "      <td>0</td>\n",
       "      <td>1</td>\n",
       "      <td>0</td>\n",
       "      <td>0</td>\n",
       "      <td>0</td>\n",
       "      <td>0</td>\n",
       "      <td>1</td>\n",
       "    </tr>\n",
       "  </tbody>\n",
       "</table>\n",
       "<p>5 rows × 102 columns</p>\n",
       "</div>"
      ],
      "text/plain": [
       "          Year   Clo   Met  Air temperature (C)  Relative humidity (%)  \\\n",
       "102330  1993.0  0.63  1.20                 22.5                   49.8   \n",
       "95398   1994.0  0.39  1.10                 30.6                   43.1   \n",
       "86887   1982.0  0.47  1.06                 21.9                   57.0   \n",
       "94799   1993.0  0.39  1.00                 32.5                   33.3   \n",
       "69296   2012.0  0.80  1.10                 27.7                   45.8   \n",
       "\n",
       "        Air velocity (m/s)  Season_Autumn  Season_Spring  Season_Summer  \\\n",
       "102330                0.11              0              0              1   \n",
       "95398                 0.24              0              0              1   \n",
       "86887                 0.10              0              0              1   \n",
       "94799                 0.00              0              0              1   \n",
       "69296                 0.29              0              0              0   \n",
       "\n",
       "        Season_Winter  ...  Building type_Multifamily housing  \\\n",
       "102330              0  ...                                  0   \n",
       "95398               0  ...                                  0   \n",
       "86887               0  ...                                  0   \n",
       "94799               0  ...                                  0   \n",
       "69296               1  ...                                  0   \n",
       "\n",
       "        Building type_Office  Building type_Others  \\\n",
       "102330                     1                     0   \n",
       "95398                      1                     0   \n",
       "86887                      1                     0   \n",
       "94799                      1                     0   \n",
       "69296                      1                     0   \n",
       "\n",
       "        Building type_Senior center  \\\n",
       "102330                            0   \n",
       "95398                             0   \n",
       "86887                             0   \n",
       "94799                             0   \n",
       "69296                             0   \n",
       "\n",
       "        Cooling startegy_building level_Air Conditioned  \\\n",
       "102330                                                1   \n",
       "95398                                                 0   \n",
       "86887                                                 1   \n",
       "94799                                                 0   \n",
       "69296                                                 1   \n",
       "\n",
       "        Cooling startegy_building level_Mechanically Ventilated  \\\n",
       "102330                                                  0         \n",
       "95398                                                   0         \n",
       "86887                                                   0         \n",
       "94799                                                   0         \n",
       "69296                                                   0         \n",
       "\n",
       "        Cooling startegy_building level_Mixed Mode  \\\n",
       "102330                                           0   \n",
       "95398                                            0   \n",
       "86887                                            0   \n",
       "94799                                            0   \n",
       "69296                                            0   \n",
       "\n",
       "        Cooling startegy_building level_Naturally Ventilated  Sex_Female  \\\n",
       "102330                                                  0              1   \n",
       "95398                                                   1              1   \n",
       "86887                                                   0              1   \n",
       "94799                                                   1              1   \n",
       "69296                                                   0              0   \n",
       "\n",
       "        Sex_Male  \n",
       "102330         0  \n",
       "95398          0  \n",
       "86887          0  \n",
       "94799          0  \n",
       "69296          1  \n",
       "\n",
       "[5 rows x 102 columns]"
      ]
     },
     "execution_count": 18,
     "metadata": {},
     "output_type": "execute_result"
    }
   ],
   "source": [
    "features_train.head()"
   ]
  },
  {
   "cell_type": "code",
   "execution_count": 19,
   "metadata": {
    "colab": {},
    "colab_type": "code",
    "id": "YVF4VJxGrZuu"
   },
   "outputs": [
    {
     "name": "stdout",
     "output_type": "stream",
     "text": [
      "<class 'pandas.core.frame.DataFrame'>\n",
      "Int64Index: 30413 entries, 102330 to 67471\n",
      "Columns: 102 entries, Year to Sex_Male\n",
      "dtypes: float64(6), uint8(96)\n",
      "memory usage: 4.4 MB\n"
     ]
    }
   ],
   "source": [
    "features_train.info()"
   ]
  },
  {
   "cell_type": "code",
   "execution_count": 20,
   "metadata": {
    "colab": {},
    "colab_type": "code",
    "id": "kaduwQESrdAB"
   },
   "outputs": [
    {
     "name": "stdout",
     "output_type": "stream",
     "text": [
      "<class 'pandas.core.frame.DataFrame'>\n",
      "Int64Index: 13035 entries, 68271 to 20756\n",
      "Columns: 102 entries, Year to Sex_Male\n",
      "dtypes: float64(6), uint8(96)\n",
      "memory usage: 1.9 MB\n"
     ]
    }
   ],
   "source": [
    "features_test.info()"
   ]
  },
  {
   "cell_type": "markdown",
   "metadata": {
    "colab_type": "text",
    "id": "jYuwY5ZCVbz5"
   },
   "source": [
    "## Train the Random Forest Model and make the classification prediction\n",
    "\n",
    "We now can call the Random Forest model from sklearn that was loaded before and specify various input features (or parameters) that influence the way the model is constructed.\n",
    "\n",
    "These parameters can be optimized in order to achieve the best accuracy."
   ]
  },
  {
   "cell_type": "code",
   "execution_count": 21,
   "metadata": {
    "colab": {},
    "colab_type": "code",
    "id": "O84aOQW9qbbh"
   },
   "outputs": [],
   "source": [
    "model_rf = RandomForestClassifier(oob_score = True, max_features = 'auto', n_estimators = 100, min_samples_leaf = 2, random_state = 2)"
   ]
  },
  {
   "cell_type": "code",
   "execution_count": 22,
   "metadata": {
    "colab": {},
    "colab_type": "code",
    "id": "tbxvCmPsqexF"
   },
   "outputs": [
    {
     "data": {
      "text/plain": [
       "RandomForestClassifier(min_samples_leaf=2, oob_score=True, random_state=2)"
      ]
     },
     "execution_count": 22,
     "metadata": {},
     "output_type": "execute_result"
    }
   ],
   "source": [
    "model_rf.fit(features_train, target_train)\n"
   ]
  },
  {
   "cell_type": "markdown",
   "metadata": {
    "colab_type": "text",
    "id": "7RrQMYHvtFFk"
   },
   "source": [
    "## Out-of-Bag (OOB) Error Calculation\n",
    "\n",
    "OOB is a metric to measure the accuracy of the classification to predict the right class. The fact that we have six classes to predict makes this classification a bit of challenge.\n"
   ]
  },
  {
   "cell_type": "code",
   "execution_count": 23,
   "metadata": {
    "colab": {},
    "colab_type": "code",
    "id": "2m1edD2_qhqF"
   },
   "outputs": [
    {
     "name": "stdout",
     "output_type": "stream",
     "text": [
      "Model accuracy: 0.4872587380396541\n"
     ]
    }
   ],
   "source": [
    "mean_model_accuracy = model_rf.oob_score_\n",
    "\n",
    "print(\"Model accuracy: \"+str(mean_model_accuracy))"
   ]
  },
  {
   "cell_type": "markdown",
   "metadata": {
    "colab_type": "text",
    "id": "sxJfBD9ZtcT9"
   },
   "source": [
    "The model is accurate about half the time in predicting if someone is comfortable. That seems low, but let's find where the baseline is.\n",
    "\n",
    "## Create a Baseline Model to compare the accuracy of the model\n",
    "\n",
    "Sci-kit learn allows you to create a baseline which is the accuracy in just random guessing\n",
    "\n"
   ]
  },
  {
   "cell_type": "code",
   "execution_count": 24,
   "metadata": {
    "colab": {},
    "colab_type": "code",
    "id": "PNG1CIFCtS7h"
   },
   "outputs": [
    {
     "name": "stdout",
     "output_type": "stream",
     "text": [
      "Model accuracy: 0.2833908707326429\n"
     ]
    }
   ],
   "source": [
    "#Dummy Classifier model to get a baseline\n",
    "baseline_rf = DummyClassifier(strategy='stratified',random_state=0)\n",
    "baseline_rf.fit(features_train, target_train)\n",
    "#DummyClassifier(constant=None, random_state=1, strategy='most_frequent')\n",
    "baseline_model_accuracy = baseline_rf.score(features_test, target_test)\n",
    "print(\"Model accuracy: \"+str(baseline_model_accuracy))"
   ]
  },
  {
   "cell_type": "markdown",
   "metadata": {
    "colab_type": "text",
    "id": "6w_XLFfPyvg3"
   },
   "source": [
    "The baseline model is only 28%, therefore our model is almost twice the accuracy at predicting the right value\n",
    "\n",
    "## Classification Report"
   ]
  },
  {
   "cell_type": "code",
   "execution_count": 25,
   "metadata": {
    "colab": {},
    "colab_type": "code",
    "id": "_x6w5nBxtk4m"
   },
   "outputs": [
    {
     "name": "stdout",
     "output_type": "stream",
     "text": [
      "              precision    recall  f1-score   support\n",
      "\n",
      "        -3.0       0.50      0.03      0.06       135\n",
      "        -2.0       0.34      0.09      0.15       791\n",
      "        -1.0       0.37      0.29      0.33      2252\n",
      "         0.0       0.54      0.79      0.64      5863\n",
      "         1.0       0.40      0.27      0.33      2499\n",
      "         2.0       0.39      0.24      0.30      1079\n",
      "         3.0       0.47      0.19      0.27       416\n",
      "\n",
      "    accuracy                           0.49     13035\n",
      "   macro avg       0.43      0.27      0.30     13035\n",
      "weighted avg       0.46      0.49      0.45     13035\n",
      "\n"
     ]
    }
   ],
   "source": [
    "y_pred = model_rf.predict(features_test)\n",
    "y_true = np.array(target_test)\n",
    "categories = np.array(target.sort_values().unique())\n",
    "print(classification_report(y_true, y_pred))"
   ]
  },
  {
   "cell_type": "markdown",
   "metadata": {
    "colab_type": "text",
    "id": "P0k8zD-My6uj"
   },
   "source": [
    "## Feature Importance\n",
    "\n",
    "With Random Forest models, there is the built-in capability to calculate the **Feature Importance**. This value is calculated based on which features most contribute to accurate predictions.\n",
    "\n"
   ]
  },
  {
   "cell_type": "code",
   "execution_count": 26,
   "metadata": {
    "colab": {},
    "colab_type": "code",
    "id": "OZPVLfEZy0CU"
   },
   "outputs": [],
   "source": [
    "importances = model_rf.feature_importances_\n",
    "std = np.std([tree.feature_importances_ for tree in model_rf.estimators_], axis=0)\n",
    "indices = np.argsort(importances)[::-1]"
   ]
  },
  {
   "cell_type": "code",
   "execution_count": 27,
   "metadata": {
    "colab": {},
    "colab_type": "code",
    "id": "-mmtYYR8zApk"
   },
   "outputs": [
    {
     "name": "stdout",
     "output_type": "stream",
     "text": [
      "Feature ranking:\n",
      "1. feature Air temperature (C) (0.227244)\n",
      "2. feature Relative humidity (%) (0.192509)\n",
      "3. feature Air velocity (m/s) (0.153570)\n",
      "4. feature Clo (0.148443)\n",
      "5. feature Met (0.069358)\n",
      "6. feature Year (0.018625)\n",
      "7. feature Sex_Female (0.016522)\n",
      "8. feature Sex_Male (0.016083)\n",
      "9. feature Season_Summer (0.011295)\n",
      "10. feature Season_Winter (0.009701)\n",
      "11. feature Season_Spring (0.007988)\n",
      "12. feature Season_Autumn (0.007010)\n",
      "13. feature Cooling startegy_building level_Air Conditioned (0.006721)\n",
      "14. feature Cooling startegy_building level_Naturally Ventilated (0.006303)\n",
      "15. feature Cooling startegy_building level_Mixed Mode (0.006215)\n",
      "16. feature Climate_Tropical wet savanna (0.005513)\n",
      "17. feature Building type_Office (0.004602)\n",
      "18. feature Country_India (0.004321)\n",
      "19. feature Climate_Hot semi-arid (0.004083)\n",
      "20. feature City_Chennai (0.003510)\n",
      "21. feature Climate_Subtropical highland (0.003073)\n",
      "22. feature Building type_Others (0.002585)\n",
      "23. feature City_Shimla (0.002564)\n",
      "24. feature Building type_Classroom (0.002368)\n",
      "25. feature Country_Australia (0.002255)\n",
      "26. feature Country_UK (0.002091)\n",
      "27. feature Climate_Humid subtropical (0.002077)\n",
      "28. feature City_London (0.002061)\n",
      "29. feature City_Jaipur (0.001996)\n",
      "30. feature Building type_Multifamily housing (0.001977)\n",
      "31. feature Country_Brazil (0.001842)\n",
      "32. feature Country_Greece (0.001774)\n",
      "33. feature Climate_Temperate oceanic (0.001710)\n",
      "34. feature City_Delhi (0.001704)\n",
      "35. feature City_Athens (0.001687)\n",
      "36. feature Climate_Warm-summer humid continental (0.001645)\n",
      "37. feature City_Hyderabad (0.001636)\n",
      "38. feature Country_Sweden (0.001635)\n",
      "39. feature City_Florianopolis (0.001520)\n",
      "40. feature Country_Portugal (0.001516)\n",
      "41. feature Climate_Monsoon-influenced humid subtropical (0.001414)\n",
      "42. feature City_San Francisco (0.001406)\n",
      "43. feature City_Ahmedabad (0.001362)\n",
      "44. feature City_Darwin (0.001342)\n",
      "45. feature Country_Philippines (0.001291)\n",
      "46. feature City_Bangalore (0.001210)\n",
      "47. feature Climate_Hot-summer mediterranean (0.001183)\n",
      "48. feature City_Townsville (0.001179)\n",
      "49. feature Climate_Cool-summer mediterranean (0.001141)\n",
      "50. feature Country_USA (0.001107)\n",
      "51. feature Building type_Senior center (0.001062)\n",
      "52. feature City_Montreal (0.001049)\n",
      "53. feature Climate_Oceanic (0.000989)\n",
      "54. feature City_Melbourne (0.000988)\n",
      "55. feature City_Makati (0.000975)\n",
      "56. feature Climate_Hot-summer Mediterranean (0.000926)\n",
      "57. feature City_San Ramon (0.000912)\n",
      "58. feature Climate_Warm-summer Mediterranean (0.000907)\n",
      "59. feature City_Brisbane (0.000851)\n",
      "60. feature City_Porto (0.000834)\n",
      "61. feature City_Lyon (0.000831)\n",
      "62. feature City_Sydney (0.000796)\n",
      "63. feature Climate_Tropical rainforest (0.000766)\n",
      "64. feature Country_Canada (0.000766)\n",
      "65. feature City_Oxford (0.000756)\n",
      "66. feature City_Bangkok (0.000738)\n",
      "67. feature City_Cardiff (0.000731)\n",
      "68. feature Country_Thailand (0.000713)\n",
      "69. feature Country_France (0.000702)\n",
      "70. feature City_Walnut Creek (0.000702)\n",
      "71. feature City_Karlsruhe (0.000660)\n",
      "72. feature City_Gothenburg (0.000642)\n",
      "73. feature City_Ilam (0.000635)\n",
      "74. feature City_Maceio (0.000630)\n",
      "75. feature Country_Iran (0.000598)\n",
      "76. feature City_Palo Alto (0.000585)\n",
      "77. feature Climate_Tropical monsoon (0.000573)\n",
      "78. feature Country_Germany (0.000556)\n",
      "79. feature City_Singapore (0.000544)\n",
      "80. feature City_Berkeley (0.000532)\n",
      "81. feature City_Kota Kinabalu (0.000495)\n",
      "82. feature Country_Malaysia (0.000475)\n",
      "83. feature Cooling startegy_building level_Mechanically Ventilated (0.000475)\n",
      "84. feature Country_Singapore (0.000435)\n",
      "85. feature City_Kalgoorlie (0.000415)\n",
      "86. feature City_Wollongong (0.000395)\n",
      "87. feature City_Hampshire (0.000316)\n",
      "88. feature Country_Italy (0.000246)\n",
      "89. feature City_Malmo (0.000238)\n",
      "90. feature City_Lisbon (0.000224)\n",
      "91. feature City_Goulburn (0.000199)\n",
      "92. feature City_Halmstad (0.000195)\n",
      "93. feature City_Auburn (0.000193)\n",
      "94. feature City_Varese (0.000163)\n",
      "95. feature City_Putra Jaya (0.000133)\n",
      "96. feature City_Bedong (0.000128)\n",
      "97. feature City_Lodi (0.000107)\n",
      "98. feature City_Imola (0.000104)\n",
      "99. feature City_Beverly Hills (0.000054)\n",
      "100. feature City_Kinarut (0.000039)\n",
      "101. feature City_Kuching (0.000038)\n",
      "102. feature City_Kuala Lumpur (0.000015)\n"
     ]
    }
   ],
   "source": [
    "# Print the feature ranking\n",
    "print(\"Feature ranking:\")\n",
    "\n",
    "for f in range(features_withdummies.shape[1]):\n",
    "    print(\"%d. feature %s (%f)\" % (f + 1, features_withdummies.columns[indices[f]], importances[indices[f]]))"
   ]
  },
  {
   "cell_type": "markdown",
   "metadata": {
    "colab_type": "text",
    "id": "2VK4nE-2zb44"
   },
   "source": [
    "According to the feature importance analysis, it seems that the conventional environmental metrics are the best predictors of comfort followed by the personal factors\n",
    "\n",
    "## Plot Feature Importance"
   ]
  },
  {
   "cell_type": "code",
   "execution_count": 28,
   "metadata": {
    "colab": {},
    "colab_type": "code",
    "id": "nTVUt2PuzB0J"
   },
   "outputs": [
    {
     "data": {
      "image/png": "[encoded data removed]",
      "text/plain": [
       "<Figure size 1500x600 with 1 Axes>"
      ]
     },
     "metadata": {},
     "output_type": "display_data"
    }
   ],
   "source": [
    "# Plot the feature importances of the forest\n",
    "plt.figure(figsize=(15,6))\n",
    "plt.title(\"Feature Importances\")\n",
    "plt.barh(range(15), importances[indices][:15], align=\"center\")\n",
    "plt.yticks(range(15), features_withdummies.columns[indices][:15])#\n",
    "plt.gca().invert_yaxis()\n",
    "plt.tight_layout(pad=0.4)\n",
    "plt.show()\n"
   ]
  },
  {
   "cell_type": "markdown",
   "metadata": {
    "colab_type": "text",
    "id": "bKcCTN4tXfDD"
   },
   "source": [
    "## Classification Confusion Matrix Visualization"
   ]
  },
  {
   "cell_type": "code",
   "execution_count": 29,
   "metadata": {
    "colab": {},
    "colab_type": "code",
    "id": "eA-kcPyC0ket"
   },
   "outputs": [],
   "source": [
    "def plot_confusion_matrix(cm, categories, title='Confusion matrix', cmap='Reds'):\n",
    "    plt.imshow(cm, interpolation='nearest', cmap=cmap)\n",
    "    plt.title(title)\n",
    "    plt.colorbar()\n",
    "    tick_marks = np.arange(len(categories))\n",
    "    plt.xticks(tick_marks,categories, rotation=90)\n",
    "    plt.yticks(tick_marks,categories)\n",
    "    plt.tight_layout()\n",
    "    plt.ylabel('True label')\n",
    "    plt.xlabel('Predicted label')\n",
    "    plt.tight_layout()"
   ]
  },
  {
   "cell_type": "code",
   "execution_count": 30,
   "metadata": {
    "colab": {},
    "colab_type": "code",
    "id": "BLealUC3zJop"
   },
   "outputs": [
    {
     "name": "stdout",
     "output_type": "stream",
     "text": [
      "Confusion matrix, without normalization\n",
      "[[   4   10   33   73   10    1    4]\n",
      " [   1   74  229  427   48    8    4]\n",
      " [   3   62  662 1363  135   23    4]\n",
      " [   0   46  570 4617  499  111   20]\n",
      " [   0   14  183 1438  683  163   18]\n",
      " [   0    9   70  453  249  259   39]\n",
      " [   0    5   32  123   71  105   80]]\n"
     ]
    },
    {
     "data": {
      "image/png": "[encoded data removed]",
      "text/plain": [
       "<Figure size 1200x1000 with 2 Axes>"
      ]
     },
     "metadata": {},
     "output_type": "display_data"
    }
   ],
   "source": [
    "# Compute confusion matrix: http://scikit-learn.org/stable/auto_examples/model_selection/plot_confusion_matrix.html\n",
    "sns.set(font_scale=1.4)\n",
    "cm = confusion_matrix(y_true, y_pred)\n",
    "np.set_printoptions(precision=2)\n",
    "print('Confusion matrix, without normalization')\n",
    "print(cm)\n",
    "plt.figure(figsize=(12,10))\n",
    "plot_confusion_matrix(cm, categories)"
   ]
  },
  {
   "cell_type": "code",
   "execution_count": 31,
   "metadata": {
    "colab": {},
    "colab_type": "code",
    "id": "fvNg89KW0du6"
   },
   "outputs": [
    {
     "name": "stdout",
     "output_type": "stream",
     "text": [
      "Normalized confusion matrix\n",
      "[[0.03 0.07 0.24 0.54 0.07 0.01 0.03]\n",
      " [0.   0.09 0.29 0.54 0.06 0.01 0.01]\n",
      " [0.   0.03 0.29 0.61 0.06 0.01 0.  ]\n",
      " [0.   0.01 0.1  0.79 0.09 0.02 0.  ]\n",
      " [0.   0.01 0.07 0.58 0.27 0.07 0.01]\n",
      " [0.   0.01 0.06 0.42 0.23 0.24 0.04]\n",
      " [0.   0.01 0.08 0.3  0.17 0.25 0.19]]\n"
     ]
    },
    {
     "data": {
      "image/png": "[encoded data removed]",
      "text/plain": [
       "<Figure size 1200x1000 with 2 Axes>"
      ]
     },
     "metadata": {},
     "output_type": "display_data"
    }
   ],
   "source": [
    "# Normalize the confusion matrix by row (i.e by the number of samples\n",
    "# in each class)\n",
    "cm_normalized = cm.astype('float') / cm.sum(axis=1)[:, np.newaxis]\n",
    "print('Normalized confusion matrix')\n",
    "print(cm_normalized)\n",
    "plt.figure(figsize=(12,10))\n",
    "plot_confusion_matrix(cm_normalized, categories, title='Normalized Classification Error Matrix')\n",
    "plt.show()"
   ]
  },
  {
   "cell_type": "markdown",
   "metadata": {
    "colab": {},
    "colab_type": "code",
    "id": "xxNa1kxv0tuY"
   },
   "source": [
    "#### Reference:\n",
    "- Data Science for Construction, Architecture and Engineering by Clayton Miller (clayton@nus.edu.sg - miller.clayton@gmail.com):\n",
    "https://www.edx.org/learn/data-science/the-national-university-of-singapore-data-science-for-construction-architecture-and-engineering\n",
    "- Simulation files and visualizations created by Miguel Martin (miguel.martin@u.nus.edu.sg)"
   ]
  },
  {
   "cell_type": "code",
   "execution_count": null,
   "metadata": {},
   "outputs": [],
   "source": []
  }
 ],
 "metadata": {
  "colab": {
   "collapsed_sections": [],
   "name": "Classification -  Thermal Comfort Prediction.ipynb",
   "provenance": [],
   "toc_visible": true
  },
  "kernelspec": {
   "display_name": "Python 3 (ipykernel)",
   "language": "python",
   "name": "python3"
  },
  "language_info": {
   "codemirror_mode": {
    "name": "ipython",
    "version": 3
   },
   "file_extension": ".py",
   "mimetype": "text/x-python",
   "name": "python",
   "nbconvert_exporter": "python",
   "pygments_lexer": "ipython3",
   "version": "3.9.13"
  }
 },
 "nbformat": 4,
 "nbformat_minor": 1
}
